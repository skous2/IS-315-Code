{
 "cells": [
  {
   "cell_type": "markdown",
   "metadata": {},
   "source": [
    "Search online to find out how to change the default correlation algorithm from Pearson to Spearman and then Kendall in the Scipy stats package. \n",
    "\n",
    "Create a DataFrame with the results of the Pearson, Spearman and the Kendall correlations and p-values for the heart attack dataset\n",
    "\n",
    "It should look like this:\n",
    "\n",
    "| . | Pearson r | Pearson p | Spearman r | Spearman p | Kendall tau | Kendall p |\n",
    "| - | - | - | - | - | - | - | \n",
    "|cp | .503 | .000 | .517 | .000 | .486 | .000 |\n",
    "| etc | # | #| # | # | # | # | # |  "
   ]
  },
  {
   "cell_type": "code",
   "execution_count": 2,
   "metadata": {},
   "outputs": [],
   "source": [
    "\n",
    "df = pd.read_csv('https://www.ishelp.info/data/heart_attack_clean.csv')"
   ]
  },
  {
   "cell_type": "code",
   "execution_count": null,
   "metadata": {},
   "outputs": [],
   "source": [
    "\n"
   ]
  },
  {
   "cell_type": "code",
   "execution_count": null,
   "metadata": {},
   "outputs": [],
   "source": []
  }
 ],
 "metadata": {
  "kernelspec": {
   "display_name": "base",
   "language": "python",
   "name": "python3"
  },
  "language_info": {
   "codemirror_mode": {
    "name": "ipython",
    "version": 3
   },
   "file_extension": ".py",
   "mimetype": "text/x-python",
   "name": "python",
   "nbconvert_exporter": "python",
   "pygments_lexer": "ipython3",
   "version": "3.11.3"
  },
  "orig_nbformat": 4
 },
 "nbformat": 4,
 "nbformat_minor": 2
}

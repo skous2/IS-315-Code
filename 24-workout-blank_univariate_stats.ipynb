{
 "cells": [
  {
   "cell_type": "markdown",
   "metadata": {},
   "source": [
    "download and import the \"heart_attack.csv\" dataset. For details about the dataset's variables you could go to this website [heart attack dataset](https://www.kaggle.com/datasets/imnikhilanand/heart-attack-prediction)"
   ]
  },
  {
   "cell_type": "code",
   "execution_count": null,
   "metadata": {},
   "outputs": [],
   "source": []
  },
  {
   "cell_type": "markdown",
   "metadata": {},
   "source": [
    "Explore the following features of the dataset:\n",
    "1. Number of rows and columns\n",
    "2. Number of unique values in each feature\n",
    "3. The data type of each feature"
   ]
  },
  {
   "cell_type": "code",
   "execution_count": null,
   "metadata": {},
   "outputs": [],
   "source": []
  },
  {
   "cell_type": "markdown",
   "metadata": {},
   "source": [
    "Continue your analysis by calculating the range and middle of each feature and finding the following:\n",
    "1. Minimum, 25% quantile, median, 75% quantile, max\n",
    "2. Mean, mode, standard deviation\n",
    "3. Skewness and kurtosis"
   ]
  },
  {
   "cell_type": "code",
   "execution_count": null,
   "metadata": {},
   "outputs": [],
   "source": []
  },
  {
   "cell_type": "markdown",
   "metadata": {},
   "source": [
    "- Create a new DataFrame called 'ha_df'\n",
    "\n",
    "- Add 11 columns in the DataFrame for each of the columns in the original dataset (age, sex, cp, trestbps, chol, fbs, restecg, thalach, exang, oldpeak, num)\n",
    "\n",
    "- Create 13 rows in this DataFrame by adding one row that calculates each of the metrics listed in the above tasks except for the count of columns (count of rows, unique values, data type, min, 25%, median, 75%, max, mean, mode, std dev, skew, kurt) for each of the 11 features. Use the name of the feature as the row index label"
   ]
  },
  {
   "cell_type": "code",
   "execution_count": null,
   "metadata": {},
   "outputs": [],
   "source": []
  },
  {
   "cell_type": "markdown",
   "metadata": {},
   "source": [
    "Create an inverted version of the same matrix table you just created:"
   ]
  },
  {
   "cell_type": "code",
   "execution_count": null,
   "metadata": {},
   "outputs": [],
   "source": []
  },
  {
   "cell_type": "markdown",
   "metadata": {},
   "source": [
    "Sort the inverted DataFrame based on the Mean column:"
   ]
  },
  {
   "cell_type": "code",
   "execution_count": null,
   "metadata": {},
   "outputs": [],
   "source": []
  },
  {
   "cell_type": "markdown",
   "metadata": {},
   "source": [
    "Sort the inverted DataFrame based on the Skew column descending:"
   ]
  },
  {
   "cell_type": "code",
   "execution_count": null,
   "metadata": {},
   "outputs": [],
   "source": []
  },
  {
   "cell_type": "markdown",
   "metadata": {},
   "source": [
    "Print out any variables that have problems with skewness"
   ]
  },
  {
   "cell_type": "code",
   "execution_count": null,
   "metadata": {},
   "outputs": [],
   "source": []
  }
 ],
 "metadata": {
  "kernelspec": {
   "display_name": "Python 3 (ipykernel)",
   "language": "python",
   "name": "python3"
  },
  "orig_nbformat": 4
 },
 "nbformat": 4,
 "nbformat_minor": 2
}

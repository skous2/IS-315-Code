{
 "cells": [
  {
   "cell_type": "markdown",
   "metadata": {},
   "source": [
    "Calculate all of the univariate statistics we talked about using the charges variable on the insurance dataset."
   ]
  },
  {
   "cell_type": "code",
   "execution_count": 32,
   "metadata": {},
   "outputs": [],
   "source": [
    "import pandas as pd\n",
    "\n",
    "df = pd.read_csv('C:/Users/skous2/Box/Teaching/Fall 2023/IS 315 - 001/Python Data Analytics Code/data/insurance.csv')"
   ]
  },
  {
   "cell_type": "code",
   "execution_count": 52,
   "metadata": {},
   "outputs": [],
   "source": [
    "ch_count = df.charges.count()\n",
    "ch_nunique = df.charges.nunique()\n",
    "ch_dtype = df.charges.dtype\n",
    "ch_missing = df.charges.isna().sum()\n",
    "ch_mean = df.charges.describe()[1]\n",
    "ch_std = df.charges.describe()[2]\n",
    "ch_min = df.charges.describe()[3]\n",
    "ch_25 = df.charges.describe()[4]\n",
    "ch_50 = df.charges.describe()[5]\n",
    "ch_75 = df.charges.describe()[6]\n",
    "ch_max = df.charges.describe()[7]\n",
    "ch_median = df.charges.median()\n",
    "ch_mode = df.charges.mode()\n",
    "ch_skew = df.charges.skew()\n",
    "ch_kurt = df.charges.kurt()"
   ]
  },
  {
   "cell_type": "code",
   "execution_count": 56,
   "metadata": {},
   "outputs": [
    {
     "name": "stdout",
     "output_type": "stream",
     "text": [
      "1338\n",
      "1337\n",
      "float64\n",
      "0\n",
      "13270.422265141257\n",
      "12110.011236693994\n",
      "1121.8739\n",
      "4740.28715\n",
      "9382.033\n",
      "16639.912515\n",
      "63770.42801\n",
      "9382.033\n",
      "1639.5631\n",
      "1.5158796580240388\n",
      "1.6062986532967907\n"
     ]
    }
   ],
   "source": [
    "print(ch_count)\n",
    "print(ch_nunique)\n",
    "print(ch_dtype)\n",
    "print(ch_missing)\n",
    "print(ch_mean)\n",
    "print(ch_std)\n",
    "print(ch_min)\n",
    "print(ch_25)\n",
    "print(ch_50)\n",
    "print(ch_75)\n",
    "print(ch_max)\n",
    "print(ch_median)\n",
    "print(ch_mode.values[0])\n",
    "print(ch_skew)\n",
    "print(ch_kurt)\n"
   ]
  }
 ],
 "metadata": {
  "kernelspec": {
   "display_name": "Python 3 (ipykernel)",
   "language": "python",
   "name": "python3"
  },
  "language_info": {
   "codemirror_mode": {
    "name": "ipython",
    "version": 3
   },
   "file_extension": ".py",
   "mimetype": "text/x-python",
   "name": "python",
   "nbconvert_exporter": "python",
   "pygments_lexer": "ipython3",
   "version": "3.11.3"
  },
  "orig_nbformat": 4
 },
 "nbformat": 4,
 "nbformat_minor": 2
}

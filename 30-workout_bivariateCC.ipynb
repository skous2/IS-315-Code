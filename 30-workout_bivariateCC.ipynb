{
 "cells": [
  {
   "cell_type": "markdown",
   "metadata": {},
   "source": [
    "### Workout Bivariate Stats Cat/Cat\n",
    "\n",
    "Download the accidents_2021_reduced.csv dataset and explore this data by discovering which features have an effect on traffic severity. \n",
    "\n",
    "The severity score ranges from 1-4 and indicates the level of impact on traffic flow:\n",
    "\n",
    "1. no impact on traffic\n",
    "2. minor traffic impact\n",
    "3. moderate traffic impact\n",
    "4. major traffic impact\n",
    "\n",
    "Begin by calculating the Pearson Chi-Square statistic and p-value for the relationship between time zone and severity. Does severity different across time zones?"
   ]
  },
  {
   "cell_type": "code",
   "execution_count": null,
   "metadata": {},
   "outputs": [],
   "source": [
    "import pandas as pd\n",
    "\n",
    "df = pd.read_csv('data/accidents_2021_reduced.csv')"
   ]
  },
  {
   "cell_type": "code",
   "execution_count": null,
   "metadata": {},
   "outputs": [],
   "source": [
    "df.Severity.unique()"
   ]
  },
  {
   "cell_type": "code",
   "execution_count": null,
   "metadata": {},
   "outputs": [],
   "source": [
    "import seaborn as sns\n",
    "from scipy.stats import chi2_contingency\n",
    "from scipy.stats import chi2\n",
    "\n",
    "crosstab = pd.crosstab(df['Severity'], df['Sunrise_Sunset'])\n",
    "X, p, dof, contingency_table = chi2_contingency(crosstab)\n",
    "\n",
    "print(f'X square:\\t{round(X, 4)}')\n",
    "print(f'p-value:\\t{round(p, 10)}')\n",
    "print(f'DoF:\\t\\t{dof}\\n')"
   ]
  },
  {
   "cell_type": "markdown",
   "metadata": {},
   "source": [
    "Demonstrate a heatmap of Severity and Timezone. Which time zone has the most accidents?\n"
   ]
  },
  {
   "cell_type": "code",
   "execution_count": 14,
   "metadata": {},
   "outputs": [
    {
     "data": {
      "image/png": "[encoded data removed]",
      "text/plain": [
       "<Figure size 640x480 with 2 Axes>"
      ]
     },
     "metadata": {},
     "output_type": "display_data"
    }
   ],
   "source": []
  },
  {
   "cell_type": "markdown",
   "metadata": {},
   "source": [
    "Finally, let's see what the effect of the crash distance is on the severity. However, crash distance is numeric. Therefore, convert crash distance into five equally-sized (or nearly equal) bins first and calculate a X2 statistic and p-value between this new binned version of crash distance and severity. Create and crosstab and heatmap overlay again. Is there a significant effect of crash distance on severity?\n",
    "\n",
    "HINT: If you choose to iterate over the rows using .itertuples(), then you may find it helpful to rename Distance(mi) to \"distance\" or some version without the \"(mi)\" portion."
   ]
  },
  {
   "cell_type": "code",
   "execution_count": 10,
   "metadata": {},
   "outputs": [],
   "source": [
    "df['distance'] = df['Distance(mi)']"
   ]
  },
  {
   "cell_type": "code",
   "execution_count": 15,
   "metadata": {},
   "outputs": [
    {
     "name": "stdout",
     "output_type": "stream",
     "text": [
      "X square:\t2819.7915\n",
      "p-value:\t0.0008460106\n",
      "DoF:\t\t2588\n",
      "\n"
     ]
    }
   ],
   "source": [
    "crosstab = pd.crosstab(df['Severity'], df['distance'])\n",
    "X, p, dof, contingency_table = chi2_contingency(crosstab)\n",
    "\n",
    "print(f'X square:\\t{round(X, 4)}')\n",
    "print(f'p-value:\\t{round(p, 10)}')\n",
    "print(f'DoF:\\t\\t{dof}\\n')"
   ]
  },
  {
   "cell_type": "code",
   "execution_count": 16,
   "metadata": {},
   "outputs": [
    {
     "data": {
      "text/html": [
       "<div>\n",
       "<style scoped>\n",
       "    .dataframe tbody tr th:only-of-type {\n",
       "        vertical-align: middle;\n",
       "    }\n",
       "\n",
       "    .dataframe tbody tr th {\n",
       "        vertical-align: top;\n",
       "    }\n",
       "\n",
       "    .dataframe thead th {\n",
       "        text-align: right;\n",
       "    }\n",
       "</style>\n",
       "<table border=\"1\" class=\"dataframe\">\n",
       "  <thead>\n",
       "    <tr style=\"text-align: right;\">\n",
       "      <th>distance</th>\n",
       "      <th>0.000</th>\n",
       "      <th>0.002</th>\n",
       "      <th>0.003</th>\n",
       "      <th>0.004</th>\n",
       "      <th>0.005</th>\n",
       "      <th>0.006</th>\n",
       "      <th>0.007</th>\n",
       "      <th>0.008</th>\n",
       "      <th>0.009</th>\n",
       "      <th>0.010</th>\n",
       "      <th>...</th>\n",
       "      <th>15.535</th>\n",
       "      <th>15.748</th>\n",
       "      <th>17.715</th>\n",
       "      <th>17.776</th>\n",
       "      <th>21.422</th>\n",
       "      <th>22.153</th>\n",
       "      <th>23.893</th>\n",
       "      <th>26.408</th>\n",
       "      <th>41.732</th>\n",
       "      <th>65.805</th>\n",
       "    </tr>\n",
       "    <tr>\n",
       "      <th>Severity</th>\n",
       "      <th></th>\n",
       "      <th></th>\n",
       "      <th></th>\n",
       "      <th></th>\n",
       "      <th></th>\n",
       "      <th></th>\n",
       "      <th></th>\n",
       "      <th></th>\n",
       "      <th></th>\n",
       "      <th></th>\n",
       "      <th></th>\n",
       "      <th></th>\n",
       "      <th></th>\n",
       "      <th></th>\n",
       "      <th></th>\n",
       "      <th></th>\n",
       "      <th></th>\n",
       "      <th></th>\n",
       "      <th></th>\n",
       "      <th></th>\n",
       "      <th></th>\n",
       "    </tr>\n",
       "  </thead>\n",
       "  <tbody>\n",
       "    <tr>\n",
       "      <th>2</th>\n",
       "      <td>1</td>\n",
       "      <td>1</td>\n",
       "      <td>3</td>\n",
       "      <td>9</td>\n",
       "      <td>17</td>\n",
       "      <td>20</td>\n",
       "      <td>24</td>\n",
       "      <td>38</td>\n",
       "      <td>50</td>\n",
       "      <td>34</td>\n",
       "      <td>...</td>\n",
       "      <td>1</td>\n",
       "      <td>1</td>\n",
       "      <td>1</td>\n",
       "      <td>1</td>\n",
       "      <td>1</td>\n",
       "      <td>1</td>\n",
       "      <td>1</td>\n",
       "      <td>1</td>\n",
       "      <td>1</td>\n",
       "      <td>1</td>\n",
       "    </tr>\n",
       "    <tr>\n",
       "      <th>4</th>\n",
       "      <td>0</td>\n",
       "      <td>0</td>\n",
       "      <td>0</td>\n",
       "      <td>0</td>\n",
       "      <td>0</td>\n",
       "      <td>0</td>\n",
       "      <td>0</td>\n",
       "      <td>0</td>\n",
       "      <td>0</td>\n",
       "      <td>0</td>\n",
       "      <td>...</td>\n",
       "      <td>0</td>\n",
       "      <td>0</td>\n",
       "      <td>0</td>\n",
       "      <td>0</td>\n",
       "      <td>0</td>\n",
       "      <td>0</td>\n",
       "      <td>0</td>\n",
       "      <td>0</td>\n",
       "      <td>0</td>\n",
       "      <td>0</td>\n",
       "    </tr>\n",
       "  </tbody>\n",
       "</table>\n",
       "<p>2 rows × 2589 columns</p>\n",
       "</div>"
      ],
      "text/plain": [
       "distance  0.000   0.002   0.003   0.004   0.005   0.006   0.007   0.008   \\\n",
       "Severity                                                                   \n",
       "2              1       1       3       9      17      20      24      38   \n",
       "4              0       0       0       0       0       0       0       0   \n",
       "\n",
       "distance  0.009   0.010   ...  15.535  15.748  17.715  17.776  21.422  22.153  \\\n",
       "Severity                  ...                                                   \n",
       "2             50      34  ...       1       1       1       1       1       1   \n",
       "4              0       0  ...       0       0       0       0       0       0   \n",
       "\n",
       "distance  23.893  26.408  41.732  65.805  \n",
       "Severity                                  \n",
       "2              1       1       1       1  \n",
       "4              0       0       0       0  \n",
       "\n",
       "[2 rows x 2589 columns]"
      ]
     },
     "execution_count": 16,
     "metadata": {},
     "output_type": "execute_result"
    }
   ],
   "source": [
    "crosstab"
   ]
  },
  {
   "cell_type": "code",
   "execution_count": 19,
   "metadata": {},
   "outputs": [
    {
     "name": "stdout",
     "output_type": "stream",
     "text": [
      "Chi-square stat: 4.588290452332574\n",
      "P-value: 0.3322065027157303\n"
     ]
    }
   ],
   "source": [
    "from scipy import stats\n",
    "\n",
    "q1 = np.quantile(df['distance'], .20)\n",
    "q2 = np.quantile(df['distance'], .40)\n",
    "q3 = np.quantile(df['distance'], .60)\n",
    "q4 = np.quantile(df['distance'], .80)\n",
    "\n",
    "\n",
    "# Step 3. Iterate through the feature to be binned and convert each value to the quartile cutoff using the\n",
    "# .itertuples() method of Pandas DataFrames which allows us to loop through ever row one-at-a-time.\n",
    "for row in df.itertuples(): \n",
    "    if row.distance < q1:\n",
    "        df.loc[row.Index, 'distance'] = q1 \n",
    "    elif row.distance >= q1 and row.distance < q2:\n",
    "        df.loc[row.Index, 'distance'] = q2\n",
    "    elif row.distance >= q2 and row.distance < q3:\n",
    "        df.loc[row.Index, 'distance'] = q3\n",
    "    elif row.distance >= q3 and row.distance < q4:\n",
    "        df.loc[row.Index, 'distance'] = q4\n",
    "    else:\n",
    "        df.loc[row.Index, 'distance'] = df['distance'].max()\n",
    "\n",
    "# Step 4. Use the new list (actually a DataFrame of one column) in place of the raw data to create the new contingency table\n",
    "contingency_table = pd.crosstab(df['Severity'], df['distance'])\n",
    "\n",
    "stat, p, dof, expected = stats.chi2_contingency(contingency_table)\n",
    "print(\"Chi-square stat: \" + str(stat))\n",
    "print(\"P-value: \" + str(p))\n",
    "\n",
    "# Output:\n",
    "# Chi-square stat: 108.11272522421773\n",
    "# P-value: 4.120737539625209e-07\n"
   ]
  }
 ],
 "metadata": {
  "kernelspec": {
   "display_name": "Python 3",
   "language": "python",
   "name": "python3"
  },
  "language_info": {
   "codemirror_mode": {
    "name": "ipython",
    "version": 3
   },
   "file_extension": ".py",
   "mimetype": "text/x-python",
   "name": "python",
   "nbconvert_exporter": "python",
   "pygments_lexer": "ipython3",
   "version": "3.10.12"
  }
 },
 "nbformat": 4,
 "nbformat_minor": 2
}

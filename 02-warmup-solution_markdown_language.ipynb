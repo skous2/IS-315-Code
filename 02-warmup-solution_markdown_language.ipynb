{
 "cells": [
  {
   "cell_type": "markdown",
   "metadata": {},
   "source": [
    "Refer to [Brigham Young University - Facts and Figures Page](https://www.byu.edu/facts-figures)\n",
    "\n",
    "Reconstruct (some) of this page using markdown in this notebook"
   ]
  },
  {
   "cell_type": "markdown",
   "metadata": {},
   "source": [
    "# BYU Facts and Figures\n",
    "\n",
    "> The @usnews 2023 rankings for best graduate schools includes @BYU among the top contenders\n",
    "\n",
    "**Location**\n",
    "\n",
    ">Provo, Utah (Utah County)\n"
   ]
  },
  {
   "cell_type": "markdown",
   "metadata": {},
   "source": [
    "**Enrollment Profile**\n",
    "\n",
    "|.  |.  |\n",
    "| - | - |\n",
    "|**Total Daytime Students**\t| 34,390 |\n",
    "| **Undergraduate Students**\t| 31,389 |\n",
    "| **Graduate Students**\t| 3,001 |\n",
    "\n",
    "(As of Fall 2022)\n",
    "\n"
   ]
  },
  {
   "cell_type": "markdown",
   "metadata": {},
   "source": [
    "**Tuition 2022-2023**\n",
    "\n",
    "- Latter-day Saint\n",
    "  - Undergraduate: $3,152 per semester\n",
    "  - Graduate: $3,966 per semester\n",
    "- Non Latter-day Saint:\n",
    "  - Undergraduate: $6,304 per semester\n",
    "  - Graduate: $7,932 per semester\n",
    "\n",
    "(For 2022-2023)"
   ]
  },
  {
   "cell_type": "code",
   "execution_count": null,
   "metadata": {},
   "outputs": [],
   "source": []
  }
 ],
 "metadata": {
  "kernelspec": {
   "display_name": "Python 3 (ipykernel)",
   "language": "python",
   "name": "python3"
  },
  "language_info": {
   "codemirror_mode": {
    "name": "ipython",
    "version": 3
   },
   "file_extension": ".py",
   "mimetype": "text/x-python",
   "name": "python",
   "nbconvert_exporter": "python",
   "pygments_lexer": "ipython3",
   "version": "3.11.3"
  }
 },
 "nbformat": 4,
 "nbformat_minor": 2
}

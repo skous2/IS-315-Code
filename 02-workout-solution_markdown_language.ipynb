{
 "cells": [
  {
   "cell_type": "markdown",
   "metadata": {},
   "source": [
    "Convert the [First Presidency of the Church Information](https://www.churchofjesuschrist.org/learn/first-presidency?lang=eng) into a Markdown table\n",
    "\n",
    "*You don't need to convert the whole table just few entries*"
   ]
  },
  {
   "cell_type": "markdown",
   "metadata": {},
   "source": [
    "|      Image   |         Name         |      Birth Date     |   Calling    |    Call Date  |\n",
    "| ----------------------------------------------------------------------------------------------------------------------- | -------------------- | ---------------- | ----------- | ------------ |\n",
    "| ![](https://brightspot-assets.churchofjesuschrist.org/dims4/default/5da90f7/2147483647/strip/false/crop/1600x1920+0+0/resize/200x240!/format/jpg/quality/90/?url=https%3A%2F%2Fassets.churchofjesuschrist.org%2Fd3%2F0d%2Fd30d849cd91a3ce4ffe2502400e40b28e6db2e21%2Frussell_nelson_official_portrait_2018.jpeg) | Russell Marion Nelson   | 9 Sep 1924        | President of the Church  | 14 Jan 2018 |\n",
    "| ![](https://brightspot-assets.churchofjesuschrist.org/dims4/default/ccb9829/2147483647/strip/false/crop/1280x1536+0+0/resize/200x240!/format/jpg/quality/90/?url=https%3A%2F%2Fassets.churchofjesuschrist.org%2F365489e6b71bf75e5a990a3a329f3ce4715bda3a) | Dallin Harris Oaks   | 12 Aug 1932       | First Counselor | 14 Jan 2018 |\n",
    "| ![](https://brightspot-assets.churchofjesuschrist.org/dims4/default/5dd8239/2147483647/strip/false/crop/1280x1536+0+0/resize/200x240!/format/jpg/quality/90/?url=https%3A%2F%2Fassets.churchofjesuschrist.org%2Ff44ae3c8b453666d561a6801a9d85184658d4e09) | Henry Bennion Eyring | 31 May 1933  | Second Counselor  | 14 Jan 2018 |\n"
   ]
  },
  {
   "cell_type": "code",
   "execution_count": null,
   "metadata": {},
   "outputs": [],
   "source": []
  }
 ],
 "metadata": {
  "kernelspec": {
   "display_name": "Python 3",
   "language": "python",
   "name": "python3"
  },
  "language_info": {
   "codemirror_mode": {
    "name": "ipython",
    "version": 3
   },
   "file_extension": ".py",
   "mimetype": "text/x-python",
   "name": "python",
   "nbconvert_exporter": "python",
   "pygments_lexer": "ipython3",
   "version": "3.7.3"
  }
 },
 "nbformat": 4,
 "nbformat_minor": 2
}

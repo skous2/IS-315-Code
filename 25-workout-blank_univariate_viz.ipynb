{
 "cells": [
  {
   "cell_type": "markdown",
   "metadata": {},
   "source": [
    "Download and import the \"grades.csv\" and \"bikebuyers.csv\" to complete this workout"
   ]
  },
  {
   "cell_type": "code",
   "execution_count": null,
   "metadata": {},
   "outputs": [],
   "source": []
  },
  {
   "cell_type": "markdown",
   "metadata": {},
   "source": [
    "Anneli, a teacher, wants to know if there is a relationship between reading percent and how students do on assessments. She downloaded a CSV of the students’ reading percent and average assessment score. Before completing any statistical analysis, Anneli wants to use histograms to see if there is a relationship. Make a double histogram with the data to see if there is any relationship. \n",
    "\n",
    "To make the graph easier to read, include a key that shows what each line represents."
   ]
  },
  {
   "cell_type": "code",
   "execution_count": 34,
   "metadata": {},
   "outputs": [],
   "source": [
    "###using matplotlib\n",
    "\n"
   ]
  },
  {
   "cell_type": "code",
   "execution_count": 35,
   "metadata": {},
   "outputs": [],
   "source": [
    "### Using seaborn\n"
   ]
  },
  {
   "cell_type": "markdown",
   "metadata": {},
   "source": [
    "Next, a bike shop owner has a dataset of customers who entered her store and were willing to answer a short survey about themselves (bikebuyers.csv). She would like a combined histogram and box plot that shows the distribution of the age of her customers. Create that as a stacked plot."
   ]
  },
  {
   "cell_type": "code",
   "execution_count": null,
   "metadata": {},
   "outputs": [],
   "source": []
  }
 ],
 "metadata": {
  "kernelspec": {
   "display_name": "Python 3 (ipykernel)",
   "language": "python",
   "name": "python3"
  },
  "language_info": {
   "codemirror_mode": {
    "name": "ipython",
    "version": 3
   },
   "file_extension": ".py",
   "mimetype": "text/x-python",
   "name": "python",
   "nbconvert_exporter": "python",
   "pygments_lexer": "ipython3",
   "version": "3.11.3"
  },
  "orig_nbformat": 4
 },
 "nbformat": 4,
 "nbformat_minor": 2
}

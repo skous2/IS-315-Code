{
 "cells": [
  {
   "cell_type": "markdown",
   "metadata": {},
   "source": [
    "The following dataset contains information about patients who have heart and blood conditions that are commonly associated with heart attacks. Your task is to determine how correlated each of the features collected is with the occurence of a heart attack.\n",
    "\n",
    "num = 1 then heart attack; num = 0 then no"
   ]
  },
  {
   "cell_type": "code",
   "execution_count": 1,
   "metadata": {},
   "outputs": [],
   "source": [
    "import pandas as pd\n",
    "\n",
    "df = pd.read_csv('https://www.ishelp.info/data/heart_attack_clean.csv')"
   ]
  },
  {
   "cell_type": "markdown",
   "metadata": {},
   "source": [
    "create a correlation matrix of all numeric features."
   ]
  },
  {
   "cell_type": "code",
   "execution_count": 14,
   "metadata": {},
   "outputs": [
    {
     "data": {
      "text/html": [
       "<div>\n",
       "<style scoped>\n",
       "    .dataframe tbody tr th:only-of-type {\n",
       "        vertical-align: middle;\n",
       "    }\n",
       "\n",
       "    .dataframe tbody tr th {\n",
       "        vertical-align: top;\n",
       "    }\n",
       "\n",
       "    .dataframe thead th {\n",
       "        text-align: right;\n",
       "    }\n",
       "</style>\n",
       "<table border=\"1\" class=\"dataframe\">\n",
       "  <thead>\n",
       "    <tr style=\"text-align: right;\">\n",
       "      <th></th>\n",
       "      <th>age</th>\n",
       "      <th>sex</th>\n",
       "      <th>cp</th>\n",
       "      <th>trestbps</th>\n",
       "      <th>chol</th>\n",
       "      <th>fbs</th>\n",
       "      <th>restecg</th>\n",
       "      <th>thalach</th>\n",
       "      <th>exang</th>\n",
       "      <th>oldpeak</th>\n",
       "      <th>num</th>\n",
       "    </tr>\n",
       "  </thead>\n",
       "  <tbody>\n",
       "    <tr>\n",
       "      <th>age</th>\n",
       "      <td>1.000000</td>\n",
       "      <td>0.020133</td>\n",
       "      <td>0.142592</td>\n",
       "      <td>0.257889</td>\n",
       "      <td>0.096937</td>\n",
       "      <td>0.198526</td>\n",
       "      <td>0.052657</td>\n",
       "      <td>-0.460095</td>\n",
       "      <td>0.264962</td>\n",
       "      <td>0.208633</td>\n",
       "      <td>0.160249</td>\n",
       "    </tr>\n",
       "    <tr>\n",
       "      <th>sex</th>\n",
       "      <td>0.020133</td>\n",
       "      <td>1.000000</td>\n",
       "      <td>0.217588</td>\n",
       "      <td>0.094937</td>\n",
       "      <td>0.055653</td>\n",
       "      <td>0.067651</td>\n",
       "      <td>-0.081372</td>\n",
       "      <td>-0.073062</td>\n",
       "      <td>0.129519</td>\n",
       "      <td>0.120925</td>\n",
       "      <td>0.249531</td>\n",
       "    </tr>\n",
       "    <tr>\n",
       "      <th>cp</th>\n",
       "      <td>0.142592</td>\n",
       "      <td>0.217588</td>\n",
       "      <td>1.000000</td>\n",
       "      <td>0.079504</td>\n",
       "      <td>0.161049</td>\n",
       "      <td>0.044556</td>\n",
       "      <td>0.006512</td>\n",
       "      <td>-0.390128</td>\n",
       "      <td>0.481323</td>\n",
       "      <td>0.360063</td>\n",
       "      <td>0.503254</td>\n",
       "    </tr>\n",
       "    <tr>\n",
       "      <th>trestbps</th>\n",
       "      <td>0.257889</td>\n",
       "      <td>0.094937</td>\n",
       "      <td>0.079504</td>\n",
       "      <td>1.000000</td>\n",
       "      <td>0.116890</td>\n",
       "      <td>0.115005</td>\n",
       "      <td>0.022250</td>\n",
       "      <td>-0.220708</td>\n",
       "      <td>0.231742</td>\n",
       "      <td>0.229117</td>\n",
       "      <td>0.148295</td>\n",
       "    </tr>\n",
       "    <tr>\n",
       "      <th>chol</th>\n",
       "      <td>0.096937</td>\n",
       "      <td>0.055653</td>\n",
       "      <td>0.161049</td>\n",
       "      <td>0.116890</td>\n",
       "      <td>1.000000</td>\n",
       "      <td>0.124957</td>\n",
       "      <td>0.056886</td>\n",
       "      <td>-0.136292</td>\n",
       "      <td>0.172802</td>\n",
       "      <td>0.113572</td>\n",
       "      <td>0.217929</td>\n",
       "    </tr>\n",
       "    <tr>\n",
       "      <th>fbs</th>\n",
       "      <td>0.198526</td>\n",
       "      <td>0.067651</td>\n",
       "      <td>0.044556</td>\n",
       "      <td>0.115005</td>\n",
       "      <td>0.124957</td>\n",
       "      <td>1.000000</td>\n",
       "      <td>0.022119</td>\n",
       "      <td>-0.082902</td>\n",
       "      <td>0.125333</td>\n",
       "      <td>0.069241</td>\n",
       "      <td>0.178642</td>\n",
       "    </tr>\n",
       "    <tr>\n",
       "      <th>restecg</th>\n",
       "      <td>0.052657</td>\n",
       "      <td>-0.081372</td>\n",
       "      <td>0.006512</td>\n",
       "      <td>0.022250</td>\n",
       "      <td>0.056886</td>\n",
       "      <td>0.022119</td>\n",
       "      <td>1.000000</td>\n",
       "      <td>-0.011117</td>\n",
       "      <td>0.056668</td>\n",
       "      <td>0.023457</td>\n",
       "      <td>-0.019413</td>\n",
       "    </tr>\n",
       "    <tr>\n",
       "      <th>thalach</th>\n",
       "      <td>-0.460095</td>\n",
       "      <td>-0.073062</td>\n",
       "      <td>-0.390128</td>\n",
       "      <td>-0.220708</td>\n",
       "      <td>-0.136292</td>\n",
       "      <td>-0.082902</td>\n",
       "      <td>-0.011117</td>\n",
       "      <td>1.000000</td>\n",
       "      <td>-0.425644</td>\n",
       "      <td>-0.327207</td>\n",
       "      <td>-0.345074</td>\n",
       "    </tr>\n",
       "    <tr>\n",
       "      <th>exang</th>\n",
       "      <td>0.264962</td>\n",
       "      <td>0.129519</td>\n",
       "      <td>0.481323</td>\n",
       "      <td>0.231742</td>\n",
       "      <td>0.172802</td>\n",
       "      <td>0.125333</td>\n",
       "      <td>0.056668</td>\n",
       "      <td>-0.425644</td>\n",
       "      <td>1.000000</td>\n",
       "      <td>0.641122</td>\n",
       "      <td>0.557860</td>\n",
       "    </tr>\n",
       "    <tr>\n",
       "      <th>oldpeak</th>\n",
       "      <td>0.208633</td>\n",
       "      <td>0.120925</td>\n",
       "      <td>0.360063</td>\n",
       "      <td>0.229117</td>\n",
       "      <td>0.113572</td>\n",
       "      <td>0.069241</td>\n",
       "      <td>0.023457</td>\n",
       "      <td>-0.327207</td>\n",
       "      <td>0.641122</td>\n",
       "      <td>1.000000</td>\n",
       "      <td>0.565669</td>\n",
       "    </tr>\n",
       "    <tr>\n",
       "      <th>num</th>\n",
       "      <td>0.160249</td>\n",
       "      <td>0.249531</td>\n",
       "      <td>0.503254</td>\n",
       "      <td>0.148295</td>\n",
       "      <td>0.217929</td>\n",
       "      <td>0.178642</td>\n",
       "      <td>-0.019413</td>\n",
       "      <td>-0.345074</td>\n",
       "      <td>0.557860</td>\n",
       "      <td>0.565669</td>\n",
       "      <td>1.000000</td>\n",
       "    </tr>\n",
       "  </tbody>\n",
       "</table>\n",
       "</div>"
      ],
      "text/plain": [
       "               age       sex        cp  trestbps      chol       fbs  \\\n",
       "age       1.000000  0.020133  0.142592  0.257889  0.096937  0.198526   \n",
       "sex       0.020133  1.000000  0.217588  0.094937  0.055653  0.067651   \n",
       "cp        0.142592  0.217588  1.000000  0.079504  0.161049  0.044556   \n",
       "trestbps  0.257889  0.094937  0.079504  1.000000  0.116890  0.115005   \n",
       "chol      0.096937  0.055653  0.161049  0.116890  1.000000  0.124957   \n",
       "fbs       0.198526  0.067651  0.044556  0.115005  0.124957  1.000000   \n",
       "restecg   0.052657 -0.081372  0.006512  0.022250  0.056886  0.022119   \n",
       "thalach  -0.460095 -0.073062 -0.390128 -0.220708 -0.136292 -0.082902   \n",
       "exang     0.264962  0.129519  0.481323  0.231742  0.172802  0.125333   \n",
       "oldpeak   0.208633  0.120925  0.360063  0.229117  0.113572  0.069241   \n",
       "num       0.160249  0.249531  0.503254  0.148295  0.217929  0.178642   \n",
       "\n",
       "           restecg   thalach     exang   oldpeak       num  \n",
       "age       0.052657 -0.460095  0.264962  0.208633  0.160249  \n",
       "sex      -0.081372 -0.073062  0.129519  0.120925  0.249531  \n",
       "cp        0.006512 -0.390128  0.481323  0.360063  0.503254  \n",
       "trestbps  0.022250 -0.220708  0.231742  0.229117  0.148295  \n",
       "chol      0.056886 -0.136292  0.172802  0.113572  0.217929  \n",
       "fbs       0.022119 -0.082902  0.125333  0.069241  0.178642  \n",
       "restecg   1.000000 -0.011117  0.056668  0.023457 -0.019413  \n",
       "thalach  -0.011117  1.000000 -0.425644 -0.327207 -0.345074  \n",
       "exang     0.056668 -0.425644  1.000000  0.641122  0.557860  \n",
       "oldpeak   0.023457 -0.327207  0.641122  1.000000  0.565669  \n",
       "num      -0.019413 -0.345074  0.557860  0.565669  1.000000  "
      ]
     },
     "execution_count": 14,
     "metadata": {},
     "output_type": "execute_result"
    }
   ],
   "source": [
    "corr_matrix = df.corr()\n",
    "corr_matrix"
   ]
  },
  {
   "cell_type": "markdown",
   "metadata": {},
   "source": [
    "Which feature is most (and least) correlated with whether or not the patient has had a heart attack?"
   ]
  },
  {
   "cell_type": "code",
   "execution_count": 26,
   "metadata": {},
   "outputs": [
    {
     "data": {
      "text/plain": [
       "num         1.000000\n",
       "oldpeak     0.565669\n",
       "exang       0.557860\n",
       "cp          0.503254\n",
       "thalach     0.345074\n",
       "sex         0.249531\n",
       "chol        0.217929\n",
       "fbs         0.178642\n",
       "age         0.160249\n",
       "trestbps    0.148295\n",
       "restecg     0.019413\n",
       "Name: num, dtype: float64"
      ]
     },
     "execution_count": 26,
     "metadata": {},
     "output_type": "execute_result"
    }
   ],
   "source": [
    "corr_matrix['num'].apply(abs).sort_values(ascending=False)"
   ]
  },
  {
   "cell_type": "markdown",
   "metadata": {},
   "source": [
    "Let's check for assumptions of a correlation:\n",
    "\n",
    "1. Check for the skewness of each variable"
   ]
  },
  {
   "cell_type": "code",
   "execution_count": 33,
   "metadata": {},
   "outputs": [
    {
     "data": {
      "text/plain": [
       "age        -0.295159\n",
       "sex        -1.074823\n",
       "cp         -0.261933\n",
       "trestbps    0.747295\n",
       "chol        1.447011\n",
       "fbs         3.307711\n",
       "restecg     1.962358\n",
       "thalach    -0.126144\n",
       "exang       0.786107\n",
       "oldpeak     1.511448\n",
       "num         0.517266\n",
       "dtype: float64"
      ]
     },
     "execution_count": 33,
     "metadata": {},
     "output_type": "execute_result"
    }
   ],
   "source": [
    "df.skew()"
   ]
  },
  {
   "cell_type": "markdown",
   "metadata": {},
   "source": [
    "Calculate the p-value for each correlation between every feature and only the label('num'). Make sure not to do the p-value of the label with itself. Sort the results by lowest to highest p-values."
   ]
  },
  {
   "cell_type": "code",
   "execution_count": 35,
   "metadata": {},
   "outputs": [],
   "source": [
    "from scipy import stats"
   ]
  },
  {
   "cell_type": "code",
   "execution_count": 39,
   "metadata": {},
   "outputs": [
    {
     "name": "stdout",
     "output_type": "stream",
     "text": [
      "The p-value for the age feature is: 0.0095\n",
      "The p-value for the sex feature is: 0.0\n",
      "The p-value for the cp feature is: 0.0\n",
      "The p-value for the trestbps feature is: 0.0165\n",
      "The p-value for the chol feature is: 0.0004\n",
      "The p-value for the fbs feature is: 0.0038\n",
      "The p-value for the restecg feature is: 0.7549\n",
      "The p-value for the thalach feature is: 0.0\n",
      "The p-value for the exang feature is: 0.0\n",
      "The p-value for the oldpeak feature is: 0.0\n",
      "The p-value for the num feature is: 0.0\n"
     ]
    }
   ],
   "source": [
    "for col in df.columns:\n",
    "    corr = stats.pearsonr(df.num, df[col])\n",
    "    print(f'The p-value for the {col} feature is: {round(corr[1],4)}')"
   ]
  }
 ],
 "metadata": {
  "kernelspec": {
   "display_name": "base",
   "language": "python",
   "name": "python3"
  },
  "language_info": {
   "codemirror_mode": {
    "name": "ipython",
    "version": 3
   },
   "file_extension": ".py",
   "mimetype": "text/x-python",
   "name": "python",
   "nbconvert_exporter": "python",
   "pygments_lexer": "ipython3",
   "version": "3.11.3"
  },
  "orig_nbformat": 4
 },
 "nbformat": 4,
 "nbformat_minor": 2
}
